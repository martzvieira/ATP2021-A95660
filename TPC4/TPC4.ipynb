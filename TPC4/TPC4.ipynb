# n1/d1 n2/d2 e operacao

import math

n1 = int(input("Insira numerador 1\n"))
d1 = int(input("Insira denominador 1\n"))
n2 = int(input("Insira numerador 2\n"))
d2 = int(input("Insira denominador 2\n"))

operacao = input("1 - Somar\n2 - Subtrair\n3 - Multiplicar\n4 - Dividir\n0 - Sair\n")

if(operacao == "1"):
    # mesmo denominador
    if(d1 == d2):
        numerador = n1+n2
        denominador = d1
    # denominador diferente
    else:
        numerador = (n1*d2)+(n2*d1)
        denominador = d1*d2
    # divisor comum
    div_comum = math.gcd(numerador,denominador)
    numerador = numerador//div_comum
    denominador = denominador//div_comum
    
    # fracao final
    fracao = str(numerador)+"/"+str(denominador)
    print("Adição: "+fracao)
    
elif(operacao == "2"):
    # mesmo denominador
    if(d1 == d2):
        numerador = n1-n2
        denominador = d1
    # denominador diferente
    else:
        numerador = (n1*d2)-(n2*d1)
        denominador = d1*d2
    # divisor comum
    div_comum = math.gcd(numerador,denominador)
    numerador = numerador//div_comum
    denominador = denominador//div_comum
    
    # fracao final
    fracao = str(numerador)+"/"+str(denominador)
    print("Subtraçao: "+fracao)
    
elif (operacao == "3"):
    numerador = n1*n2
    denominador = d1*d2
    
    # divisor comum
    div_comum = math.gcd(numerador,denominador)
    numerador = numerador//div_comum
    denominador = denominador//div_comum
    
    # fracao final
    fracao = str(numerador)+"/"+str(denominador)
    print("Multiplicação: "+fracao)
    
elif (operacao == "4"):
    numerador = n1*d2
    denominador = n2*d1
    
    # divisor comum
    div_comum = math.gcd(numerador,denominador)
    numerador = numerador//div_comum
    denominador = denominador//div_comum
    
    # fracao final
    fracao = str(numerador)+"/"+str(denominador)
    print("Divisão: "+fracao)
    
else:
    print("Operação Interrompida")
